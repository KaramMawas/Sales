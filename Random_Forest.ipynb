{
 "cells": [
  {
   "cell_type": "code",
   "execution_count": 1,
   "metadata": {},
   "outputs": [],
   "source": [
    "import pandas as pd\n",
    "import numpy as np\n",
    "from sklearn.ensemble import RandomForestRegressor\n",
    "\n",
    "# the error metric. In this case. We will use c-stat (aka ROC/AUC)\n",
    "from sklearn.metrics import roc_auc_score"
   ]
  },
  {
   "cell_type": "code",
   "execution_count": 2,
   "metadata": {},
   "outputs": [],
   "source": [
    "sales_m = pd.read_pickle('sales_m_lag_12_with_Holidays')"
   ]
  },
  {
   "cell_type": "code",
   "execution_count": 3,
   "metadata": {},
   "outputs": [],
   "source": [
    "lag_variables  = ['item_id_enc_item_price_avg', 'item_id_enc_item_cnt_day_sum',\n",
    "       'item_id_enc_item_cnt_day_avg', 'shop_id_enc_item_price_avg',\n",
    "       'shop_id_enc_item_cnt_day_sum', 'shop_id_enc_item_cnt_day_avg',\n",
    "       'item_category_id_enc_item_price_avg',\n",
    "       'item_category_id_enc_item_cnt_day_sum',\n",
    "       'item_category_id_enc_item_cnt_day_avg',\n",
    "    'item_cnt_day']\n",
    "cols_to_drop = lag_variables[:-1] + ['item_price']"
   ]
  },
  {
   "cell_type": "code",
   "execution_count": 4,
   "metadata": {},
   "outputs": [],
   "source": [
    "X_train = sales_m[sales_m['date_block_num']<33].drop(cols_to_drop, axis=1)\n",
    "X_val =  sales_m[sales_m['date_block_num']==33].drop(cols_to_drop, axis=1)\n",
    "X_test = sales_m[sales_m['date_block_num']==34].drop(cols_to_drop, axis=1)"
   ]
  },
  {
   "cell_type": "code",
   "execution_count": 5,
   "metadata": {},
   "outputs": [],
   "source": [
    "X_train.drop(['item_name','item_category_name'], axis=1,inplace=True)\n",
    "X_val.drop(['item_name','item_category_name'], axis=1,inplace=True)\n",
    "X_test.drop(['item_name','item_category_name'], axis=1,inplace=True)"
   ]
  },
  {
   "cell_type": "code",
   "execution_count": 6,
   "metadata": {},
   "outputs": [],
   "source": [
    "X_train['item_cnt_day'].clip_upper(20, inplace=True)\n",
    "X_train['item_cnt_day'].clip_lower(0, inplace=True)\n",
    "\n",
    "X_val['item_cnt_day'].clip_upper(20, inplace=True)\n",
    "X_val['item_cnt_day'].clip_lower(0, inplace=True)\n",
    "\n",
    "X_test['item_cnt_day'].clip_upper(20, inplace=True)\n",
    "X_test['item_cnt_day'].clip_lower(0, inplace=True)"
   ]
  },
  {
   "cell_type": "code",
   "execution_count": 7,
   "metadata": {},
   "outputs": [],
   "source": [
    "cols = [c for c in X_train.columns if c not in ['date_block_num', 'item_cnt_day',]]\n",
    "x1 = X_train[cols]\n",
    "y1 = X_train['item_cnt_day']\n",
    "x2 = X_val[cols]\n",
    "y2 = X_val['item_cnt_day']"
   ]
  },
  {
   "cell_type": "code",
   "execution_count": 10,
   "metadata": {},
   "outputs": [],
   "source": [
    "numeric_variables = list(x1.dtypes[x1.dtypes !=\"object\"].index)"
   ]
  },
  {
   "cell_type": "code",
   "execution_count": 12,
   "metadata": {},
   "outputs": [
    {
     "data": {
      "text/html": [
       "<div>\n",
       "<style scoped>\n",
       "    .dataframe tbody tr th:only-of-type {\n",
       "        vertical-align: middle;\n",
       "    }\n",
       "\n",
       "    .dataframe tbody tr th {\n",
       "        vertical-align: top;\n",
       "    }\n",
       "\n",
       "    .dataframe thead th {\n",
       "        text-align: right;\n",
       "    }\n",
       "</style>\n",
       "<table border=\"1\" class=\"dataframe\">\n",
       "  <thead>\n",
       "    <tr style=\"text-align: right;\">\n",
       "      <th></th>\n",
       "      <th>shop_id</th>\n",
       "      <th>item_id</th>\n",
       "      <th>item_category_id</th>\n",
       "      <th>item_id_enc_item_price_avg_lag_1_x</th>\n",
       "      <th>item_id_enc_item_cnt_day_sum_lag_1_x</th>\n",
       "      <th>item_id_enc_item_cnt_day_avg_lag_1_x</th>\n",
       "      <th>shop_id_enc_item_price_avg_lag_1_x</th>\n",
       "      <th>shop_id_enc_item_cnt_day_sum_lag_1_x</th>\n",
       "      <th>shop_id_enc_item_cnt_day_avg_lag_1_x</th>\n",
       "      <th>item_category_id_enc_item_price_avg_lag_1_x</th>\n",
       "      <th>...</th>\n",
       "      <th>shop_id_enc_item_cnt_day_avg_lag_12</th>\n",
       "      <th>item_category_id_enc_item_price_avg_lag_12</th>\n",
       "      <th>item_category_id_enc_item_cnt_day_sum_lag_12</th>\n",
       "      <th>item_category_id_enc_item_cnt_day_avg_lag_12</th>\n",
       "      <th>item_cnt_day_lag_12</th>\n",
       "      <th>December</th>\n",
       "      <th>Newyear_Xmas</th>\n",
       "      <th>Valentine_MenDay</th>\n",
       "      <th>WomenDay</th>\n",
       "      <th>Easter_Labor</th>\n",
       "    </tr>\n",
       "  </thead>\n",
       "  <tbody>\n",
       "    <tr>\n",
       "      <th>4488710</th>\n",
       "      <td>54</td>\n",
       "      <td>10297</td>\n",
       "      <td>37</td>\n",
       "      <td>189.887329</td>\n",
       "      <td>0.408451</td>\n",
       "      <td>0.408451</td>\n",
       "      <td>213.720200</td>\n",
       "      <td>0.982407</td>\n",
       "      <td>0.982407</td>\n",
       "      <td>52.873695</td>\n",
       "      <td>...</td>\n",
       "      <td>0.0</td>\n",
       "      <td>115.765045</td>\n",
       "      <td>0.0</td>\n",
       "      <td>0.0</td>\n",
       "      <td>0.0</td>\n",
       "      <td>0</td>\n",
       "      <td>1</td>\n",
       "      <td>0</td>\n",
       "      <td>0</td>\n",
       "      <td>0</td>\n",
       "    </tr>\n",
       "    <tr>\n",
       "      <th>4488711</th>\n",
       "      <td>54</td>\n",
       "      <td>10296</td>\n",
       "      <td>38</td>\n",
       "      <td>738.000000</td>\n",
       "      <td>0.615385</td>\n",
       "      <td>0.615385</td>\n",
       "      <td>213.722565</td>\n",
       "      <td>0.982418</td>\n",
       "      <td>0.982418</td>\n",
       "      <td>126.015518</td>\n",
       "      <td>...</td>\n",
       "      <td>0.0</td>\n",
       "      <td>115.765045</td>\n",
       "      <td>0.0</td>\n",
       "      <td>0.0</td>\n",
       "      <td>0.0</td>\n",
       "      <td>0</td>\n",
       "      <td>1</td>\n",
       "      <td>0</td>\n",
       "      <td>0</td>\n",
       "      <td>0</td>\n",
       "    </tr>\n",
       "    <tr>\n",
       "      <th>4488712</th>\n",
       "      <td>54</td>\n",
       "      <td>10298</td>\n",
       "      <td>40</td>\n",
       "      <td>344.190796</td>\n",
       "      <td>14.136752</td>\n",
       "      <td>14.136752</td>\n",
       "      <td>213.726105</td>\n",
       "      <td>0.982429</td>\n",
       "      <td>0.982429</td>\n",
       "      <td>29.325655</td>\n",
       "      <td>...</td>\n",
       "      <td>0.0</td>\n",
       "      <td>115.765045</td>\n",
       "      <td>0.0</td>\n",
       "      <td>0.0</td>\n",
       "      <td>0.0</td>\n",
       "      <td>0</td>\n",
       "      <td>1</td>\n",
       "      <td>0</td>\n",
       "      <td>0</td>\n",
       "      <td>0</td>\n",
       "    </tr>\n",
       "    <tr>\n",
       "      <th>4488713</th>\n",
       "      <td>54</td>\n",
       "      <td>10300</td>\n",
       "      <td>37</td>\n",
       "      <td>481.066193</td>\n",
       "      <td>3.829060</td>\n",
       "      <td>3.829060</td>\n",
       "      <td>213.728088</td>\n",
       "      <td>0.982648</td>\n",
       "      <td>0.982648</td>\n",
       "      <td>52.875359</td>\n",
       "      <td>...</td>\n",
       "      <td>0.0</td>\n",
       "      <td>115.765045</td>\n",
       "      <td>0.0</td>\n",
       "      <td>0.0</td>\n",
       "      <td>0.0</td>\n",
       "      <td>0</td>\n",
       "      <td>1</td>\n",
       "      <td>0</td>\n",
       "      <td>0</td>\n",
       "      <td>0</td>\n",
       "    </tr>\n",
       "    <tr>\n",
       "      <th>4488714</th>\n",
       "      <td>54</td>\n",
       "      <td>10284</td>\n",
       "      <td>57</td>\n",
       "      <td>32.997707</td>\n",
       "      <td>0.135321</td>\n",
       "      <td>0.135321</td>\n",
       "      <td>219.066513</td>\n",
       "      <td>1.014041</td>\n",
       "      <td>1.014041</td>\n",
       "      <td>25.144424</td>\n",
       "      <td>...</td>\n",
       "      <td>0.0</td>\n",
       "      <td>115.765045</td>\n",
       "      <td>0.0</td>\n",
       "      <td>0.0</td>\n",
       "      <td>0.0</td>\n",
       "      <td>0</td>\n",
       "      <td>1</td>\n",
       "      <td>0</td>\n",
       "      <td>0</td>\n",
       "      <td>0</td>\n",
       "    </tr>\n",
       "  </tbody>\n",
       "</table>\n",
       "<p>5 rows × 158 columns</p>\n",
       "</div>"
      ],
      "text/plain": [
       "         shop_id  item_id  item_category_id  \\\n",
       "4488710       54    10297                37   \n",
       "4488711       54    10296                38   \n",
       "4488712       54    10298                40   \n",
       "4488713       54    10300                37   \n",
       "4488714       54    10284                57   \n",
       "\n",
       "         item_id_enc_item_price_avg_lag_1_x  \\\n",
       "4488710                          189.887329   \n",
       "4488711                          738.000000   \n",
       "4488712                          344.190796   \n",
       "4488713                          481.066193   \n",
       "4488714                           32.997707   \n",
       "\n",
       "         item_id_enc_item_cnt_day_sum_lag_1_x  \\\n",
       "4488710                              0.408451   \n",
       "4488711                              0.615385   \n",
       "4488712                             14.136752   \n",
       "4488713                              3.829060   \n",
       "4488714                              0.135321   \n",
       "\n",
       "         item_id_enc_item_cnt_day_avg_lag_1_x  \\\n",
       "4488710                              0.408451   \n",
       "4488711                              0.615385   \n",
       "4488712                             14.136752   \n",
       "4488713                              3.829060   \n",
       "4488714                              0.135321   \n",
       "\n",
       "         shop_id_enc_item_price_avg_lag_1_x  \\\n",
       "4488710                          213.720200   \n",
       "4488711                          213.722565   \n",
       "4488712                          213.726105   \n",
       "4488713                          213.728088   \n",
       "4488714                          219.066513   \n",
       "\n",
       "         shop_id_enc_item_cnt_day_sum_lag_1_x  \\\n",
       "4488710                              0.982407   \n",
       "4488711                              0.982418   \n",
       "4488712                              0.982429   \n",
       "4488713                              0.982648   \n",
       "4488714                              1.014041   \n",
       "\n",
       "         shop_id_enc_item_cnt_day_avg_lag_1_x  \\\n",
       "4488710                              0.982407   \n",
       "4488711                              0.982418   \n",
       "4488712                              0.982429   \n",
       "4488713                              0.982648   \n",
       "4488714                              1.014041   \n",
       "\n",
       "         item_category_id_enc_item_price_avg_lag_1_x      ...       \\\n",
       "4488710                                    52.873695      ...        \n",
       "4488711                                   126.015518      ...        \n",
       "4488712                                    29.325655      ...        \n",
       "4488713                                    52.875359      ...        \n",
       "4488714                                    25.144424      ...        \n",
       "\n",
       "         shop_id_enc_item_cnt_day_avg_lag_12  \\\n",
       "4488710                                  0.0   \n",
       "4488711                                  0.0   \n",
       "4488712                                  0.0   \n",
       "4488713                                  0.0   \n",
       "4488714                                  0.0   \n",
       "\n",
       "         item_category_id_enc_item_price_avg_lag_12  \\\n",
       "4488710                                  115.765045   \n",
       "4488711                                  115.765045   \n",
       "4488712                                  115.765045   \n",
       "4488713                                  115.765045   \n",
       "4488714                                  115.765045   \n",
       "\n",
       "         item_category_id_enc_item_cnt_day_sum_lag_12  \\\n",
       "4488710                                           0.0   \n",
       "4488711                                           0.0   \n",
       "4488712                                           0.0   \n",
       "4488713                                           0.0   \n",
       "4488714                                           0.0   \n",
       "\n",
       "         item_category_id_enc_item_cnt_day_avg_lag_12  item_cnt_day_lag_12  \\\n",
       "4488710                                           0.0                  0.0   \n",
       "4488711                                           0.0                  0.0   \n",
       "4488712                                           0.0                  0.0   \n",
       "4488713                                           0.0                  0.0   \n",
       "4488714                                           0.0                  0.0   \n",
       "\n",
       "         December  Newyear_Xmas  Valentine_MenDay  WomenDay  Easter_Labor  \n",
       "4488710         0             1                 0         0             0  \n",
       "4488711         0             1                 0         0             0  \n",
       "4488712         0             1                 0         0             0  \n",
       "4488713         0             1                 0         0             0  \n",
       "4488714         0             1                 0         0             0  \n",
       "\n",
       "[5 rows x 158 columns]"
      ]
     },
     "execution_count": 12,
     "metadata": {},
     "output_type": "execute_result"
    }
   ],
   "source": [
    "x1[numeric_variables].head()"
   ]
  },
  {
   "cell_type": "code",
   "execution_count": 13,
   "metadata": {},
   "outputs": [],
   "source": [
    "y_test = list(X_train['item_cnt_day'].values)"
   ]
  },
  {
   "cell_type": "code",
   "execution_count": 14,
   "metadata": {},
   "outputs": [],
   "source": [
    "model = RandomForestRegressor(n_estimators=100, oob_score=True, random_state=42)"
   ]
  },
  {
   "cell_type": "code",
   "execution_count": 16,
   "metadata": {},
   "outputs": [
    {
     "data": {
      "text/plain": [
       "RandomForestRegressor(bootstrap=True, criterion='mse', max_depth=None,\n",
       "           max_features='auto', max_leaf_nodes=None,\n",
       "           min_impurity_decrease=0.0, min_impurity_split=None,\n",
       "           min_samples_leaf=1, min_samples_split=2,\n",
       "           min_weight_fraction_leaf=0.0, n_estimators=100, n_jobs=1,\n",
       "           oob_score=True, random_state=42, verbose=0, warm_start=False)"
      ]
     },
     "execution_count": 16,
     "metadata": {},
     "output_type": "execute_result"
    }
   ],
   "source": [
    "model.fit(x1[numeric_variables],y_test)"
   ]
  },
  {
   "cell_type": "code",
   "execution_count": 26,
   "metadata": {},
   "outputs": [
    {
     "data": {
      "text/plain": [
       "['RF1.pkl']"
      ]
     },
     "execution_count": 26,
     "metadata": {},
     "output_type": "execute_result"
    }
   ],
   "source": [
    "from sklearn.externals import joblib\n",
    "joblib.dump(model, 'RF1.pkl') \n",
    "#model = joblib.load('RF1.pkl')  # to load the model"
   ]
  },
  {
   "cell_type": "code",
   "execution_count": 27,
   "metadata": {},
   "outputs": [
    {
     "data": {
      "text/plain": [
       "0.57448755917565908"
      ]
     },
     "execution_count": 27,
     "metadata": {},
     "output_type": "execute_result"
    }
   ],
   "source": [
    "model.oob_score_"
   ]
  },
  {
   "cell_type": "code",
   "execution_count": 52,
   "metadata": {},
   "outputs": [
    {
     "data": {
      "text/plain": [
       "array([ 0.05337229,  0.13357513,  0.03332268,  0.00919769,  0.00688758,\n",
       "        0.00658386,  0.00787753,  0.00516446,  0.00517751,  0.00932814,\n",
       "        0.00567698,  0.00553919,  0.17023894,  0.00359817,  0.00242735,\n",
       "        0.00248341,  0.00296245,  0.00259339,  0.00242387,  0.00376894,\n",
       "        0.00299728,  0.00308148,  0.01218675,  0.0025066 ,  0.00170588,\n",
       "        0.00171617,  0.00205145,  0.00129271,  0.00131902,  0.0024346 ,\n",
       "        0.00171395,  0.0017279 ,  0.01165318,  0.00200556,  0.00129939,\n",
       "        0.0012974 ,  0.00174172,  0.00104176,  0.00104697,  0.00187746,\n",
       "        0.00130029,  0.00131853,  0.00268833,  0.0017484 ,  0.00116386,\n",
       "        0.00116622,  0.00153115,  0.00097807,  0.00101347,  0.00170251,\n",
       "        0.00123178,  0.001278  ,  0.00372276,  0.00201466,  0.00121241,\n",
       "        0.00113591,  0.00149368,  0.00112032,  0.00114286,  0.00180699,\n",
       "        0.00133951,  0.00139031,  0.00345091,  0.00200021,  0.00116496,\n",
       "        0.00115508,  0.00160161,  0.00097653,  0.00094184,  0.00162367,\n",
       "        0.00127295,  0.00143322,  0.00206915,  0.00913777,  0.00678519,\n",
       "        0.00667345,  0.00790595,  0.00545923,  0.00537616,  0.00940025,\n",
       "        0.00553369,  0.00563668,  0.17538212,  0.00377973,  0.00245749,\n",
       "        0.00247094,  0.00297096,  0.00259674,  0.00265177,  0.00373585,\n",
       "        0.00273171,  0.00278854,  0.01252267,  0.00251359,  0.00173045,\n",
       "        0.00172377,  0.00206709,  0.00129513,  0.00135367,  0.00243193,\n",
       "        0.00178433,  0.00172845,  0.01167026,  0.00199236,  0.00129613,\n",
       "        0.00129219,  0.00171145,  0.00105269,  0.00105013,  0.00187043,\n",
       "        0.00129332,  0.00129921,  0.00271417,  0.0017744 ,  0.00118692,\n",
       "        0.00114669,  0.0015515 ,  0.00100006,  0.00098345,  0.0016939 ,\n",
       "        0.0012328 ,  0.00122107,  0.0036908 ,  0.00205705,  0.0011884 ,\n",
       "        0.00116072,  0.00151055,  0.0010888 ,  0.0011225 ,  0.00191747,\n",
       "        0.00150366,  0.00134387,  0.00344643,  0.00198221,  0.00117387,\n",
       "        0.00116147,  0.00157752,  0.00093133,  0.00093611,  0.00159851,\n",
       "        0.0013908 ,  0.00126902,  0.00203293,  0.00325624,  0.00191807,\n",
       "        0.00190352,  0.0031797 ,  0.00153001,  0.00153211,  0.00290556,\n",
       "        0.0039228 ,  0.00396753,  0.00330925,  0.00831076,  0.00326539,\n",
       "        0.00480473,  0.00513729,  0.00522767])"
      ]
     },
     "execution_count": 52,
     "metadata": {},
     "output_type": "execute_result"
    }
   ],
   "source": [
    "model.feature_importances_"
   ]
  },
  {
   "cell_type": "code",
   "execution_count": 55,
   "metadata": {},
   "outputs": [
    {
     "data": {
      "image/png": "[encoded data removed]",
      "text/plain": [
       "<matplotlib.figure.Figure at 0x17f2c11c5f8>"
      ]
     },
     "metadata": {},
     "output_type": "display_data"
    }
   ],
   "source": [
    "# Simple version that shows all of the variables\n",
    "# it shows the impact(importance) of each columns in the results\n",
    "feature_importances = pd.Series(model.feature_importances_)#, index=x1.columns\n",
    "feature_importances.sort_values()\n",
    "feature_importances.plot(kind=\"barh\");#,figsize=(7,6)"
   ]
  },
  {
   "cell_type": "code",
   "execution_count": 57,
   "metadata": {},
   "outputs": [
    {
     "name": "stdout",
     "output_type": "stream",
     "text": [
      "0.941504994804\n"
     ]
    }
   ],
   "source": [
    "print(model.score(x1[numeric_variables],y_test))"
   ]
  },
  {
   "cell_type": "code",
   "execution_count": 59,
   "metadata": {},
   "outputs": [],
   "source": [
    "import os\n",
    "DATA_FOLDER = './DataSet/'\n",
    "test = pd.read_csv(os.path.join(DATA_FOLDER, 'test.csv.gz'))"
   ]
  },
  {
   "cell_type": "code",
   "execution_count": 61,
   "metadata": {},
   "outputs": [
    {
     "data": {
      "text/html": [
       "<div>\n",
       "<style scoped>\n",
       "    .dataframe tbody tr th:only-of-type {\n",
       "        vertical-align: middle;\n",
       "    }\n",
       "\n",
       "    .dataframe tbody tr th {\n",
       "        vertical-align: top;\n",
       "    }\n",
       "\n",
       "    .dataframe thead th {\n",
       "        text-align: right;\n",
       "    }\n",
       "</style>\n",
       "<table border=\"1\" class=\"dataframe\">\n",
       "  <thead>\n",
       "    <tr style=\"text-align: right;\">\n",
       "      <th></th>\n",
       "      <th>ID</th>\n",
       "      <th>shop_id</th>\n",
       "      <th>item_id</th>\n",
       "    </tr>\n",
       "  </thead>\n",
       "  <tbody>\n",
       "    <tr>\n",
       "      <th>0</th>\n",
       "      <td>0</td>\n",
       "      <td>5</td>\n",
       "      <td>5037</td>\n",
       "    </tr>\n",
       "    <tr>\n",
       "      <th>1</th>\n",
       "      <td>1</td>\n",
       "      <td>5</td>\n",
       "      <td>5320</td>\n",
       "    </tr>\n",
       "    <tr>\n",
       "      <th>2</th>\n",
       "      <td>2</td>\n",
       "      <td>5</td>\n",
       "      <td>5233</td>\n",
       "    </tr>\n",
       "    <tr>\n",
       "      <th>3</th>\n",
       "      <td>3</td>\n",
       "      <td>5</td>\n",
       "      <td>5232</td>\n",
       "    </tr>\n",
       "    <tr>\n",
       "      <th>4</th>\n",
       "      <td>4</td>\n",
       "      <td>5</td>\n",
       "      <td>5268</td>\n",
       "    </tr>\n",
       "  </tbody>\n",
       "</table>\n",
       "</div>"
      ],
      "text/plain": [
       "   ID  shop_id  item_id\n",
       "0   0        5     5037\n",
       "1   1        5     5320\n",
       "2   2        5     5233\n",
       "3   3        5     5232\n",
       "4   4        5     5268"
      ]
     },
     "execution_count": 61,
     "metadata": {},
     "output_type": "execute_result"
    }
   ],
   "source": [
    "test.head()"
   ]
  },
  {
   "cell_type": "code",
   "execution_count": 64,
   "metadata": {},
   "outputs": [],
   "source": [
    "pred_forest = model.predict(x2)"
   ]
  },
  {
   "cell_type": "code",
   "execution_count": null,
   "metadata": {},
   "outputs": [],
   "source": []
  }
 ],
 "metadata": {
  "kernelspec": {
   "display_name": "Python 3",
   "language": "python",
   "name": "python3"
  },
  "language_info": {
   "codemirror_mode": {
    "name": "ipython",
    "version": 3
   },
   "file_extension": ".py",
   "mimetype": "text/x-python",
   "name": "python",
   "nbconvert_exporter": "python",
   "pygments_lexer": "ipython3",
   "version": "3.6.4"
  }
 },
 "nbformat": 4,
 "nbformat_minor": 2
}
